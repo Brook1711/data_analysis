{
 "cells": [
  {
   "cell_type": "markdown",
   "id": "d85f147e",
   "metadata": {},
   "source": [
    "# 数据处理\n",
    "先转换为单题的单个字符一列的excel；只提取出有效值；例如frame\\\":{\\\"successRate\\\":,\\\"minJumps\\\":,\\\"jumps\\，这些说明字段删去；\n",
    "# 数据分析\n",
    "1、每个题的平均作答时长；——结果数据</br>\n",
    "\n",
    "2、每个题的编码种类（有多少种，分别是什么，每种多少学生）；——结果数据</br>\n",
    "\n",
    "3、每个题的每个操作步骤的平均作答时长；——过程数据</br>\n",
    "\n",
    "4、正确率（暂未提供标准编码，可以探索一下题目本身，协助形成标准答案编码）；——结果数据</br>\n",
    "\n",
    "5、关键节点（通过数据，探索学生在从初始状态向终止状态进行的过程中，有几个关键步骤，每个关键步骤有几种类型的关键节点编码），体现“用数据说话”去探索关键节点。——过程数据</br>\n",
    "【以上仅供参考，希望包含，但不限于此】\n",
    "\n",
    "答案解析：一个frame字段是一个题。\n",
    "每个题目的记录方式不同，请用demo账号登录题目，页面最上方点击打开答案，可以看到该题目的每个步骤点击后出现的答案数据，也可以直接与命题人沟通询问具体每个答案的内涵。\n",
    "\n",
    "\n",
    "[\"{\\\"frame\\\":{\\\"successRate\\\":1,\\\"minJumps\\\":2,\\\"jumps\\\":2,\\\"path\\\":[1,3,2]}}\",\"{\\\"frame\\\":{\\\"successRate\\\":1,\\\"minJumps\\\":2,\\\"jumps\\\":2,\\\"path\\\":[3,1,0]}}\",\"{\\\"frame\\\":[\\\"00\\\",\\\"01\\\",\\\"02\\\",\\\"06\\\"]}\",\"{\\\"frame\\\":[\\\"00\\\",\\\"01\\\",\\\"02\\\",\\\"03\\\"]}\",\"{\\\"frame\\\":[[0,0,0,0,0,0,0],[1,0,1,0,0,0,0],[0,0,0,0,0,0,0],[0,0,0,0,0,0,0],[0,0,1,0,0,0,1]]}\",\"{\\\"frame\\\":[\\\"C_B\\\"]}\",\"{\\\"frame\\\":[\\\"C_G\\\",\\\"F_G\\\"]}\",\"{\\\"frame\\\":[\\\"09_02\\\"]}\",\"{\\\"frame\\\":[\\\"v_10_v_2\\\"]}\",\"{\\\"frame\\\":[]}\",\"{\\\"frame\\\":[]}\",\"{\\\"frame\\\":[[[2,1],[3,1],[4,1],[4,2]]]}\",\"{\\\"frame\\\":[[{\\\"row\\\":0,\\\"col\\\":0}]]}\",\"{\\\"frame\\\":[[{\\\"row\\\":1,\\\"col\\\":0}]]}\",\"{\\\"frame\\\":{\\\"stamps\\\":[2,1,0],\\\"start\\\":1,\\\"end\\\":16,\\\"selected\\\":true}}\",\"{\\\"frame\\\":{\\\"stamps\\\":[2,1,0],\\\"start\\\":1,\\\"end\\\":5,\\\"selected\\\":true}}\",\"{\\\"frame\\\":{\\\"stamps\\\":[2,1,0,1],\\\"start\\\":5,\\\"end\\\":5,\\\"selected\\\":true}}\",\"{\\\"frame\\\":{\\\"rotation\\\":[[0,1,0]],\\\"lowered\\\":null}}\",\"{\\\"frame\\\":{\\\"rotation\\\":[[0,1,0,1,3,2]],\\\"lowered\\\":null}}\",\"{\\\"frame\\\":{\\\"rotation\\\":[[null,null,2,0,2,3],[0,2,2,null,3,null],[null,0,null,null,1,null],[0,2,0,1,null,null]],\\\"lowered\\\":null}}\",\"{\\\"frame\\\":{\\\"sequence\\\":[0,0,0,0,0,1,1],\\\"transformation\\\":[[0],[0,1]]}}\",\"{\\\"frame\\\":{\\\"sequence\\\":[0,0,0],\\\"transformation\\\":[[0,1],[1,0]]}}\",\"{\\\"frame\\\":[4,5]}\",\"{\\\"frame\\\":[0,1,2,2,0,0]}\"]\n"
   ]
  },
  {
   "cell_type": "code",
   "execution_count": 232,
   "id": "e73e9beb",
   "metadata": {},
   "outputs": [
    {
     "data": {
      "text/html": [
       "        <script type=\"text/javascript\">\n",
       "        window.PlotlyConfig = {MathJaxConfig: 'local'};\n",
       "        if (window.MathJax) {MathJax.Hub.Config({SVG: {font: \"STIX-Web\"}});}\n",
       "        if (typeof require !== 'undefined') {\n",
       "        require.undef(\"plotly\");\n",
       "        requirejs.config({\n",
       "            paths: {\n",
       "                'plotly': ['https://cdn.plot.ly/plotly-2.1.0.min']\n",
       "            }\n",
       "        });\n",
       "        require(['plotly'], function(Plotly) {\n",
       "            window._Plotly = Plotly;\n",
       "        });\n",
       "        }\n",
       "        </script>\n",
       "        "
      ]
     },
     "metadata": {},
     "output_type": "display_data"
    }
   ],
   "source": [
    "import pandas as pd\n",
    "import json \n",
    "import numpy as np\n",
    "import ast\n",
    "from datetime import datetime\n",
    "import plotly as py\n",
    "import plotly.graph_objs as go\n",
    "from plotly.offline import plot\n",
    "from IPython.core.display import HTML\n",
    "import plotly.offline as offline\n",
    "offline.init_notebook_mode(connected=True)\n"
   ]
  },
  {
   "cell_type": "code",
   "execution_count": 271,
   "id": "b62b3f15",
   "metadata": {},
   "outputs": [],
   "source": [
    "class data_analysis:\n",
    "    def __init__(self, df) -> None:\n",
    "        self.problem_num = 23\n",
    "        self.df = df\n",
    "        self.row_num = len(df)\n",
    "        self.ndf = 0\n",
    "        self.df.insert(len(self.df.columns), 'ans', self.remove_str())\n",
    "        self.df.insert(len(self.df.columns), 'interval', self.get_interval())\n",
    "        \n",
    "        print('init complete')\n",
    "\n",
    "    def remove_str_per_row(self, data_per_row):\n",
    "        frame_list = ast.literal_eval(data_per_row)\n",
    "        frame_dic_list = []\n",
    "        for index in range(len(frame_list)):\n",
    "            frame_dic_list.append(json.loads(frame_list[index])) \n",
    "        return frame_dic_list\n",
    "\n",
    "    def remove_str(self):\n",
    "        ndf_ans_8_list = []\n",
    "        ndf_rm_frame = []\n",
    "        for i in range(self.row_num):\n",
    "            dic_temp = self.remove_str_per_row(self.df.loc[i,'task_answers'])\n",
    "            ndf_ans_8_list.append(dic_temp)\n",
    "            new_dic_list = []\n",
    "            for dic in dic_temp:\n",
    "                dic = dic['frame']\n",
    "                new_dic = dic\n",
    "                new_dic_list.append(new_dic)\n",
    "            ndf_rm_frame.append(new_dic_list)\n",
    "\n",
    "        return ndf_rm_frame\n",
    "    \n",
    "    def get_interval(self):\n",
    "        interval_list = []\n",
    "        for i in range(len(self.df)):\n",
    "            interval_list.append(self.get_interval_per_row(i))\n",
    "        return interval_list\n",
    "\n",
    "    def get_interval_per_row(self, index):\n",
    "        row_data = self.df.loc[index,:]\n",
    "        start_time = row_data['start_time']\n",
    "        start_time = datetime.strptime(start_time,\"%Y-%m-%dT%H:%M:%S+08:00\")\n",
    "\n",
    "        expire_time = row_data['expire_time']\n",
    "        expire_time = datetime.strptime(expire_time,\"%Y-%m-%dT%H:%M:%S+08:00\")\n",
    "\n",
    "        stop_time = row_data['stop_time']\n",
    "        if stop_time != stop_time:\n",
    "            return -1\n",
    "        stop_time = datetime.strptime(stop_time,\"%Y-%m-%dT%H:%M:%S+08:00\")\n",
    "\n",
    "        total_sec = (stop_time - start_time).seconds\n",
    "        return total_sec\n",
    "    \n",
    "    def create_new_df(self):\n",
    "        twoD_list = []\n",
    "        for row in range(self.row_num):\n",
    "            ans_dic_list = self.df.loc[row, 'ans']\n",
    "            twoD_list.append(ans_dic_list)\n",
    "        return twoD_list\n",
    "    \n",
    "    def plot(self):\n",
    "        s1 = np.random.RandomState(1)\n",
    "        x = s1.randn(1000)\n",
    "        data = [go.Histogram(x=x)] \n",
    "        layout={\"title\": \"学生用时分布\", \n",
    "                                       \"xaxis_title\": \"学生用时，单位秒\",\n",
    "                                       \"yaxis_title\": \"学生个数占比\",\n",
    "                                       # x轴坐标倾斜60度\n",
    "                                       \"xaxis\": {\"tickangle\": 60}\n",
    "                                      }\n",
    "        fig = go.Figure(data=data,layout=layout)\n",
    "        plot(fig,filename=\"./plot/vector.html\",auto_open=False,image='png',image_height=800,image_width=1500)\n",
    "        offline.iplot(fig) \n",
    "        return 0"
   ]
  },
  {
   "cell_type": "code",
   "execution_count": 272,
   "id": "3b99c9a0",
   "metadata": {},
   "outputs": [
    {
     "name": "stdout",
     "output_type": "stream",
     "text": [
      "init complete\n"
     ]
    }
   ],
   "source": [
    "df = pd.read_excel('./data/data.xlsx')\n",
    "data_entity = data_analysis(df)"
   ]
  },
  {
   "cell_type": "code",
   "execution_count": 268,
   "id": "d2b2fd91",
   "metadata": {},
   "outputs": [
    {
     "data": {
      "text/plain": [
       "662"
      ]
     },
     "execution_count": 268,
     "metadata": {},
     "output_type": "execute_result"
    }
   ],
   "source": [
    "len(data_entity.df)"
   ]
  },
  {
   "cell_type": "code",
   "execution_count": 227,
   "id": "1931a690",
   "metadata": {},
   "outputs": [
    {
     "data": {
      "text/html": [
       "<div>\n",
       "<style scoped>\n",
       "    .dataframe tbody tr th:only-of-type {\n",
       "        vertical-align: middle;\n",
       "    }\n",
       "\n",
       "    .dataframe tbody tr th {\n",
       "        vertical-align: top;\n",
       "    }\n",
       "\n",
       "    .dataframe thead th {\n",
       "        text-align: right;\n",
       "    }\n",
       "</style>\n",
       "<table border=\"1\" class=\"dataframe\">\n",
       "  <thead>\n",
       "    <tr style=\"text-align: right;\">\n",
       "      <th></th>\n",
       "      <th>user</th>\n",
       "      <th>type</th>\n",
       "      <th>contest_id</th>\n",
       "      <th>ticket_id</th>\n",
       "      <th>start_time</th>\n",
       "      <th>expire_time</th>\n",
       "      <th>stop_time</th>\n",
       "      <th>mobile_alert</th>\n",
       "      <th>task_answers</th>\n",
       "      <th>user_agent</th>\n",
       "      <th>client_ip</th>\n",
       "      <th>school</th>\n",
       "      <th>tag</th>\n",
       "      <th>name</th>\n",
       "      <th>owner</th>\n",
       "      <th>state</th>\n",
       "      <th>is_parent</th>\n",
       "      <th>ans</th>\n",
       "      <th>interval</th>\n",
       "    </tr>\n",
       "  </thead>\n",
       "  <tbody>\n",
       "    <tr>\n",
       "      <th>0</th>\n",
       "      <td>yibin/智能计算素养/310101</td>\n",
       "      <td>ticket-user</td>\n",
       "      <td>yibin/智能计算素养</td>\n",
       "      <td>310101</td>\n",
       "      <td>2021-06-24T09:44:29+08:00</td>\n",
       "      <td>2021-06-24T11:44:29+08:00</td>\n",
       "      <td>2021-06-24T10:33:05+08:00</td>\n",
       "      <td>NaN</td>\n",
       "      <td>[\"{\\\"frame\\\":{\\\"level\\\":\\\"easy\\\",\\\"data\\\":{\\\"s...</td>\n",
       "      <td>Mozilla/5.0 (Windows NT 10.0; Win64; x64) Appl...</td>\n",
       "      <td>125.69.167.133</td>\n",
       "      <td>区二中实验初中</td>\n",
       "      <td>我是学生,智能计算素养,问题解决素养</td>\n",
       "      <td>杨凤</td>\n",
       "      <td>yibin</td>\n",
       "      <td>NaN</td>\n",
       "      <td>0</td>\n",
       "      <td>[{'level': 'easy', 'data': {'successRate': 1, ...</td>\n",
       "      <td>2916</td>\n",
       "    </tr>\n",
       "    <tr>\n",
       "      <th>1</th>\n",
       "      <td>yibin/智能计算素养/310102</td>\n",
       "      <td>ticket-user</td>\n",
       "      <td>yibin/智能计算素养</td>\n",
       "      <td>310102</td>\n",
       "      <td>2021-06-24T09:49:17+08:00</td>\n",
       "      <td>2021-06-24T11:49:17+08:00</td>\n",
       "      <td>2021-06-24T10:10:22+08:00</td>\n",
       "      <td>NaN</td>\n",
       "      <td>[\"{\\\"frame\\\":{\\\"level\\\":\\\"easy\\\",\\\"data\\\":{\\\"s...</td>\n",
       "      <td>Mozilla/5.0 (Windows NT 10.0; Win64; x64) Appl...</td>\n",
       "      <td>125.69.167.133</td>\n",
       "      <td>区二中实验初中</td>\n",
       "      <td>我是学生,智能计算素养,问题解决素养</td>\n",
       "      <td>祝韵涵</td>\n",
       "      <td>yibin</td>\n",
       "      <td>NaN</td>\n",
       "      <td>0</td>\n",
       "      <td>[{'level': 'easy', 'data': {'successRate': 1, ...</td>\n",
       "      <td>1265</td>\n",
       "    </tr>\n",
       "    <tr>\n",
       "      <th>2</th>\n",
       "      <td>yibin/智能计算素养/310103</td>\n",
       "      <td>ticket-user</td>\n",
       "      <td>yibin/智能计算素养</td>\n",
       "      <td>310103</td>\n",
       "      <td>2021-06-24T09:50:20+08:00</td>\n",
       "      <td>2021-06-24T11:50:20+08:00</td>\n",
       "      <td>2021-06-24T10:26:06+08:00</td>\n",
       "      <td>NaN</td>\n",
       "      <td>[\"{\\\"frame\\\":{\\\"level\\\":\\\"easy\\\",\\\"data\\\":{\\\"s...</td>\n",
       "      <td>Mozilla/5.0 (Windows NT 10.0; Win64; x64) Appl...</td>\n",
       "      <td>125.69.167.133</td>\n",
       "      <td>区二中实验初中</td>\n",
       "      <td>我是学生,智能计算素养,问题解决素养</td>\n",
       "      <td>兰英</td>\n",
       "      <td>yibin</td>\n",
       "      <td>NaN</td>\n",
       "      <td>0</td>\n",
       "      <td>[{'level': 'easy', 'data': {'successRate': 1, ...</td>\n",
       "      <td>2146</td>\n",
       "    </tr>\n",
       "    <tr>\n",
       "      <th>3</th>\n",
       "      <td>yibin/智能计算素养/310104</td>\n",
       "      <td>ticket-user</td>\n",
       "      <td>yibin/智能计算素养</td>\n",
       "      <td>310104</td>\n",
       "      <td>2021-06-24T10:11:47+08:00</td>\n",
       "      <td>2021-06-24T12:11:47+08:00</td>\n",
       "      <td>2021-06-24T10:39:18+08:00</td>\n",
       "      <td>NaN</td>\n",
       "      <td>[\"{\\\"frame\\\":{\\\"level\\\":\\\"easy\\\",\\\"data\\\":{\\\"s...</td>\n",
       "      <td>Mozilla/5.0 (Windows NT 10.0; Win64; x64) Appl...</td>\n",
       "      <td>125.69.167.133</td>\n",
       "      <td>区二中实验初中</td>\n",
       "      <td>我是学生,智能计算素养,问题解决素养</td>\n",
       "      <td>王福琳</td>\n",
       "      <td>yibin</td>\n",
       "      <td>NaN</td>\n",
       "      <td>0</td>\n",
       "      <td>[{'level': 'easy', 'data': {'successRate': 1, ...</td>\n",
       "      <td>1651</td>\n",
       "    </tr>\n",
       "    <tr>\n",
       "      <th>4</th>\n",
       "      <td>yibin/智能计算素养/310105</td>\n",
       "      <td>ticket-user</td>\n",
       "      <td>yibin/智能计算素养</td>\n",
       "      <td>310105</td>\n",
       "      <td>2021-06-24T09:57:54+08:00</td>\n",
       "      <td>2021-06-24T11:57:54+08:00</td>\n",
       "      <td>2021-06-24T10:34:30+08:00</td>\n",
       "      <td>NaN</td>\n",
       "      <td>[\"{\\\"frame\\\":{\\\"level\\\":\\\"easy\\\",\\\"data\\\":{\\\"s...</td>\n",
       "      <td>Mozilla/5.0 (Windows NT 10.0; Win64; x64) Appl...</td>\n",
       "      <td>125.69.167.133</td>\n",
       "      <td>区二中实验初中</td>\n",
       "      <td>我是学生,智能计算素养,问题解决素养</td>\n",
       "      <td>程诗茹</td>\n",
       "      <td>yibin</td>\n",
       "      <td>NaN</td>\n",
       "      <td>0</td>\n",
       "      <td>[{'level': 'easy', 'data': {'successRate': 0, ...</td>\n",
       "      <td>2196</td>\n",
       "    </tr>\n",
       "    <tr>\n",
       "      <th>...</th>\n",
       "      <td>...</td>\n",
       "      <td>...</td>\n",
       "      <td>...</td>\n",
       "      <td>...</td>\n",
       "      <td>...</td>\n",
       "      <td>...</td>\n",
       "      <td>...</td>\n",
       "      <td>...</td>\n",
       "      <td>...</td>\n",
       "      <td>...</td>\n",
       "      <td>...</td>\n",
       "      <td>...</td>\n",
       "      <td>...</td>\n",
       "      <td>...</td>\n",
       "      <td>...</td>\n",
       "      <td>...</td>\n",
       "      <td>...</td>\n",
       "      <td>...</td>\n",
       "      <td>...</td>\n",
       "    </tr>\n",
       "    <tr>\n",
       "      <th>657</th>\n",
       "      <td>yibin/智能计算素养/412349</td>\n",
       "      <td>ticket-user</td>\n",
       "      <td>yibin/智能计算素养</td>\n",
       "      <td>412349</td>\n",
       "      <td>2021-06-25T09:16:59+08:00</td>\n",
       "      <td>2021-06-25T11:16:59+08:00</td>\n",
       "      <td>2021-06-25T10:18:46+08:00</td>\n",
       "      <td>NaN</td>\n",
       "      <td>[\"{\\\"frame\\\":{\\\"level\\\":\\\"easy\\\",\\\"data\\\":{\\\"s...</td>\n",
       "      <td>Mozilla/5.0 (Windows NT 6.1; Win64; x64) Apple...</td>\n",
       "      <td>117.172.174.50</td>\n",
       "      <td>南溪一中（高中）</td>\n",
       "      <td>我是学生,智能计算素养,问题解决素养,高中生问卷一,高中生问卷二</td>\n",
       "      <td>苏雨梦</td>\n",
       "      <td>yibin</td>\n",
       "      <td>NaN</td>\n",
       "      <td>0</td>\n",
       "      <td>[{'level': 'easy', 'data': {'successRate': 1, ...</td>\n",
       "      <td>3707</td>\n",
       "    </tr>\n",
       "    <tr>\n",
       "      <th>658</th>\n",
       "      <td>yibin/智能计算素养/412350</td>\n",
       "      <td>ticket-user</td>\n",
       "      <td>yibin/智能计算素养</td>\n",
       "      <td>412350</td>\n",
       "      <td>2021-06-25T09:14:35+08:00</td>\n",
       "      <td>2021-06-25T11:14:35+08:00</td>\n",
       "      <td>2021-06-25T11:02:43+08:00</td>\n",
       "      <td>NaN</td>\n",
       "      <td>[\"{\\\"frame\\\":{\\\"level\\\":\\\"easy\\\",\\\"data\\\":{\\\"s...</td>\n",
       "      <td>Mozilla/5.0 (Windows NT 6.1; Win64; x64) Apple...</td>\n",
       "      <td>117.172.174.50</td>\n",
       "      <td>南溪一中（高中）</td>\n",
       "      <td>我是学生,智能计算素养,问题解决素养,高中生问卷一,高中生问卷二</td>\n",
       "      <td>张廷轩</td>\n",
       "      <td>yibin</td>\n",
       "      <td>NaN</td>\n",
       "      <td>0</td>\n",
       "      <td>[{'level': 'easy', 'data': {'successRate': 1, ...</td>\n",
       "      <td>6488</td>\n",
       "    </tr>\n",
       "    <tr>\n",
       "      <th>659</th>\n",
       "      <td>yibin/智能计算素养/412351</td>\n",
       "      <td>ticket-user</td>\n",
       "      <td>yibin/智能计算素养</td>\n",
       "      <td>412351</td>\n",
       "      <td>2021-06-25T09:18:02+08:00</td>\n",
       "      <td>2021-06-25T11:18:02+08:00</td>\n",
       "      <td>2021-06-25T10:05:09+08:00</td>\n",
       "      <td>NaN</td>\n",
       "      <td>[\"{\\\"frame\\\":{\\\"level\\\":\\\"easy\\\",\\\"data\\\":{\\\"s...</td>\n",
       "      <td>Mozilla/5.0 (Windows NT 6.1; Win64; x64) Apple...</td>\n",
       "      <td>117.172.174.50</td>\n",
       "      <td>南溪一中（高中）</td>\n",
       "      <td>我是学生,智能计算素养,问题解决素养,高中生问卷一,高中生问卷二</td>\n",
       "      <td>母小玉</td>\n",
       "      <td>yibin</td>\n",
       "      <td>NaN</td>\n",
       "      <td>0</td>\n",
       "      <td>[{'level': 'easy', 'data': {'successRate': 1, ...</td>\n",
       "      <td>2827</td>\n",
       "    </tr>\n",
       "    <tr>\n",
       "      <th>660</th>\n",
       "      <td>yibin/智能计算素养/412352</td>\n",
       "      <td>ticket-user</td>\n",
       "      <td>yibin/智能计算素养</td>\n",
       "      <td>412352</td>\n",
       "      <td>2021-06-25T09:09:23+08:00</td>\n",
       "      <td>2021-06-25T11:09:23+08:00</td>\n",
       "      <td>2021-06-25T09:52:58+08:00</td>\n",
       "      <td>NaN</td>\n",
       "      <td>[\"{\\\"frame\\\":{\\\"level\\\":\\\"easy\\\",\\\"data\\\":{\\\"s...</td>\n",
       "      <td>Mozilla/5.0 (Windows NT 6.1; Win64; x64) Apple...</td>\n",
       "      <td>117.172.174.50</td>\n",
       "      <td>南溪一中（高中）</td>\n",
       "      <td>我是学生,智能计算素养,问题解决素养,高中生问卷一,高中生问卷二</td>\n",
       "      <td>陈明英</td>\n",
       "      <td>yibin</td>\n",
       "      <td>NaN</td>\n",
       "      <td>0</td>\n",
       "      <td>[{'level': 'easy', 'data': {'successRate': 1, ...</td>\n",
       "      <td>2615</td>\n",
       "    </tr>\n",
       "    <tr>\n",
       "      <th>661</th>\n",
       "      <td>yibin/智能计算素养/412353</td>\n",
       "      <td>ticket-user</td>\n",
       "      <td>yibin/智能计算素养</td>\n",
       "      <td>412353</td>\n",
       "      <td>2021-06-25T09:21:51+08:00</td>\n",
       "      <td>2021-06-25T11:21:51+08:00</td>\n",
       "      <td>2021-06-25T10:46:12+08:00</td>\n",
       "      <td>NaN</td>\n",
       "      <td>[\"{\\\"frame\\\":{\\\"level\\\":\\\"easy\\\",\\\"data\\\":{\\\"s...</td>\n",
       "      <td>Mozilla/5.0 (Windows NT 6.1; Win64; x64) Apple...</td>\n",
       "      <td>117.172.174.50</td>\n",
       "      <td>南溪一中（高中）</td>\n",
       "      <td>我是学生,智能计算素养,问题解决素养,高中生问卷一,高中生问卷二</td>\n",
       "      <td>李雪婷</td>\n",
       "      <td>yibin</td>\n",
       "      <td>NaN</td>\n",
       "      <td>0</td>\n",
       "      <td>[{'level': 'easy', 'data': {'successRate': 1, ...</td>\n",
       "      <td>5061</td>\n",
       "    </tr>\n",
       "  </tbody>\n",
       "</table>\n",
       "<p>662 rows × 19 columns</p>\n",
       "</div>"
      ],
      "text/plain": [
       "                    user         type    contest_id  ticket_id  \\\n",
       "0    yibin/智能计算素养/310101  ticket-user  yibin/智能计算素养     310101   \n",
       "1    yibin/智能计算素养/310102  ticket-user  yibin/智能计算素养     310102   \n",
       "2    yibin/智能计算素养/310103  ticket-user  yibin/智能计算素养     310103   \n",
       "3    yibin/智能计算素养/310104  ticket-user  yibin/智能计算素养     310104   \n",
       "4    yibin/智能计算素养/310105  ticket-user  yibin/智能计算素养     310105   \n",
       "..                   ...          ...           ...        ...   \n",
       "657  yibin/智能计算素养/412349  ticket-user  yibin/智能计算素养     412349   \n",
       "658  yibin/智能计算素养/412350  ticket-user  yibin/智能计算素养     412350   \n",
       "659  yibin/智能计算素养/412351  ticket-user  yibin/智能计算素养     412351   \n",
       "660  yibin/智能计算素养/412352  ticket-user  yibin/智能计算素养     412352   \n",
       "661  yibin/智能计算素养/412353  ticket-user  yibin/智能计算素养     412353   \n",
       "\n",
       "                    start_time                expire_time  \\\n",
       "0    2021-06-24T09:44:29+08:00  2021-06-24T11:44:29+08:00   \n",
       "1    2021-06-24T09:49:17+08:00  2021-06-24T11:49:17+08:00   \n",
       "2    2021-06-24T09:50:20+08:00  2021-06-24T11:50:20+08:00   \n",
       "3    2021-06-24T10:11:47+08:00  2021-06-24T12:11:47+08:00   \n",
       "4    2021-06-24T09:57:54+08:00  2021-06-24T11:57:54+08:00   \n",
       "..                         ...                        ...   \n",
       "657  2021-06-25T09:16:59+08:00  2021-06-25T11:16:59+08:00   \n",
       "658  2021-06-25T09:14:35+08:00  2021-06-25T11:14:35+08:00   \n",
       "659  2021-06-25T09:18:02+08:00  2021-06-25T11:18:02+08:00   \n",
       "660  2021-06-25T09:09:23+08:00  2021-06-25T11:09:23+08:00   \n",
       "661  2021-06-25T09:21:51+08:00  2021-06-25T11:21:51+08:00   \n",
       "\n",
       "                     stop_time  mobile_alert  \\\n",
       "0    2021-06-24T10:33:05+08:00           NaN   \n",
       "1    2021-06-24T10:10:22+08:00           NaN   \n",
       "2    2021-06-24T10:26:06+08:00           NaN   \n",
       "3    2021-06-24T10:39:18+08:00           NaN   \n",
       "4    2021-06-24T10:34:30+08:00           NaN   \n",
       "..                         ...           ...   \n",
       "657  2021-06-25T10:18:46+08:00           NaN   \n",
       "658  2021-06-25T11:02:43+08:00           NaN   \n",
       "659  2021-06-25T10:05:09+08:00           NaN   \n",
       "660  2021-06-25T09:52:58+08:00           NaN   \n",
       "661  2021-06-25T10:46:12+08:00           NaN   \n",
       "\n",
       "                                          task_answers  \\\n",
       "0    [\"{\\\"frame\\\":{\\\"level\\\":\\\"easy\\\",\\\"data\\\":{\\\"s...   \n",
       "1    [\"{\\\"frame\\\":{\\\"level\\\":\\\"easy\\\",\\\"data\\\":{\\\"s...   \n",
       "2    [\"{\\\"frame\\\":{\\\"level\\\":\\\"easy\\\",\\\"data\\\":{\\\"s...   \n",
       "3    [\"{\\\"frame\\\":{\\\"level\\\":\\\"easy\\\",\\\"data\\\":{\\\"s...   \n",
       "4    [\"{\\\"frame\\\":{\\\"level\\\":\\\"easy\\\",\\\"data\\\":{\\\"s...   \n",
       "..                                                 ...   \n",
       "657  [\"{\\\"frame\\\":{\\\"level\\\":\\\"easy\\\",\\\"data\\\":{\\\"s...   \n",
       "658  [\"{\\\"frame\\\":{\\\"level\\\":\\\"easy\\\",\\\"data\\\":{\\\"s...   \n",
       "659  [\"{\\\"frame\\\":{\\\"level\\\":\\\"easy\\\",\\\"data\\\":{\\\"s...   \n",
       "660  [\"{\\\"frame\\\":{\\\"level\\\":\\\"easy\\\",\\\"data\\\":{\\\"s...   \n",
       "661  [\"{\\\"frame\\\":{\\\"level\\\":\\\"easy\\\",\\\"data\\\":{\\\"s...   \n",
       "\n",
       "                                            user_agent       client_ip  \\\n",
       "0    Mozilla/5.0 (Windows NT 10.0; Win64; x64) Appl...  125.69.167.133   \n",
       "1    Mozilla/5.0 (Windows NT 10.0; Win64; x64) Appl...  125.69.167.133   \n",
       "2    Mozilla/5.0 (Windows NT 10.0; Win64; x64) Appl...  125.69.167.133   \n",
       "3    Mozilla/5.0 (Windows NT 10.0; Win64; x64) Appl...  125.69.167.133   \n",
       "4    Mozilla/5.0 (Windows NT 10.0; Win64; x64) Appl...  125.69.167.133   \n",
       "..                                                 ...             ...   \n",
       "657  Mozilla/5.0 (Windows NT 6.1; Win64; x64) Apple...  117.172.174.50   \n",
       "658  Mozilla/5.0 (Windows NT 6.1; Win64; x64) Apple...  117.172.174.50   \n",
       "659  Mozilla/5.0 (Windows NT 6.1; Win64; x64) Apple...  117.172.174.50   \n",
       "660  Mozilla/5.0 (Windows NT 6.1; Win64; x64) Apple...  117.172.174.50   \n",
       "661  Mozilla/5.0 (Windows NT 6.1; Win64; x64) Apple...  117.172.174.50   \n",
       "\n",
       "       school                               tag name  owner  state  is_parent  \\\n",
       "0     区二中实验初中                我是学生,智能计算素养,问题解决素养   杨凤  yibin    NaN          0   \n",
       "1     区二中实验初中                我是学生,智能计算素养,问题解决素养  祝韵涵  yibin    NaN          0   \n",
       "2     区二中实验初中                我是学生,智能计算素养,问题解决素养   兰英  yibin    NaN          0   \n",
       "3     区二中实验初中                我是学生,智能计算素养,问题解决素养  王福琳  yibin    NaN          0   \n",
       "4     区二中实验初中                我是学生,智能计算素养,问题解决素养  程诗茹  yibin    NaN          0   \n",
       "..        ...                               ...  ...    ...    ...        ...   \n",
       "657  南溪一中（高中）  我是学生,智能计算素养,问题解决素养,高中生问卷一,高中生问卷二  苏雨梦  yibin    NaN          0   \n",
       "658  南溪一中（高中）  我是学生,智能计算素养,问题解决素养,高中生问卷一,高中生问卷二  张廷轩  yibin    NaN          0   \n",
       "659  南溪一中（高中）  我是学生,智能计算素养,问题解决素养,高中生问卷一,高中生问卷二  母小玉  yibin    NaN          0   \n",
       "660  南溪一中（高中）  我是学生,智能计算素养,问题解决素养,高中生问卷一,高中生问卷二  陈明英  yibin    NaN          0   \n",
       "661  南溪一中（高中）  我是学生,智能计算素养,问题解决素养,高中生问卷一,高中生问卷二  李雪婷  yibin    NaN          0   \n",
       "\n",
       "                                                   ans  interval  \n",
       "0    [{'level': 'easy', 'data': {'successRate': 1, ...      2916  \n",
       "1    [{'level': 'easy', 'data': {'successRate': 1, ...      1265  \n",
       "2    [{'level': 'easy', 'data': {'successRate': 1, ...      2146  \n",
       "3    [{'level': 'easy', 'data': {'successRate': 1, ...      1651  \n",
       "4    [{'level': 'easy', 'data': {'successRate': 0, ...      2196  \n",
       "..                                                 ...       ...  \n",
       "657  [{'level': 'easy', 'data': {'successRate': 1, ...      3707  \n",
       "658  [{'level': 'easy', 'data': {'successRate': 1, ...      6488  \n",
       "659  [{'level': 'easy', 'data': {'successRate': 1, ...      2827  \n",
       "660  [{'level': 'easy', 'data': {'successRate': 1, ...      2615  \n",
       "661  [{'level': 'easy', 'data': {'successRate': 1, ...      5061  \n",
       "\n",
       "[662 rows x 19 columns]"
      ]
     },
     "execution_count": 227,
     "metadata": {},
     "output_type": "execute_result"
    }
   ],
   "source": [
    "data_entity.df"
   ]
  },
  {
   "cell_type": "markdown",
   "id": "02a7af39",
   "metadata": {},
   "source": [
    "# 数据处理\n",
    "处理函数定义在类data_analysis中的子函数remove_str()中\n",
    "移除每一行中第8列中的frame\\\":{\\\"successRate\\\":,\\\"minJumps\\\":,\\\"jumps\\，这些说明字段删去；"
   ]
  },
  {
   "cell_type": "code",
   "execution_count": 129,
   "id": "3811d24c",
   "metadata": {},
   "outputs": [],
   "source": [
    "index = 1"
   ]
  },
  {
   "cell_type": "code",
   "execution_count": 130,
   "id": "5ccf75ef",
   "metadata": {},
   "outputs": [
    {
     "data": {
      "text/plain": [
       "[{'frame': {'level': 'easy',\n",
       "   'data': {'successRate': 1, 'minJumps': 2, 'jumps': 2, 'path': [2, 0, 1]}}},\n",
       " {'frame': {'level': 'easy',\n",
       "   'data': {'successRate': 1, 'minJumps': 2, 'jumps': 2, 'path': [2, 0, 1]}}},\n",
       " {'frame': {'level': 'easy', 'data': ['00', '01', '02', '06']}},\n",
       " {'frame': {'level': 'medium', 'data': ['05', '08']}},\n",
       " {'frame': {'level': 'easy',\n",
       "   'data': [[0, 0, 0, 0, 0, 0, 0],\n",
       "    [1, 0, 1, 0, 1, 0, 1],\n",
       "    [0, 0, 0, 0, 0, 0, 0],\n",
       "    [0, 0, 0, 0, 0, 0, 0],\n",
       "    [1, 0, 1, 0, 0, 0, 0]]}},\n",
       " {'frame': {'level': 'easy', 'data': ['C_A']}},\n",
       " {'frame': {'level': 'medium', 'data': ['C_G', 'F_G']}},\n",
       " {'frame': {'level': 'easy',\n",
       "   'data': [[[0, 0], [0, 1], [1, 1]],\n",
       "    [[0, 2], [0, 3], [1, 3]],\n",
       "    [[0, 4], [0, 5], [1, 5]],\n",
       "    [[0, 6], [0, 7], [1, 7]]]}},\n",
       " {'frame': {'level': 'medium',\n",
       "   'data': [[[0, 2], [1, 2], [2, 2], [2, 3]],\n",
       "    None,\n",
       "    [[3, 3], [4, 3], [5, 3], [5, 4]],\n",
       "    [[2, 1], [3, 1], [4, 1], [4, 2]],\n",
       "    [[1, 4], [2, 4], [3, 4], [3, 5]]]}},\n",
       " {'frame': {'level': 'easy', 'data': ['09_02', '06_05']}},\n",
       " {'frame': {'level': 'medium', 'data': ['v_8_v_12', 'v_8_v_14', 'v_4_v_7']}},\n",
       " {'frame': {'level': 'easy',\n",
       "   'data': [[{'row': 0, 'col': 0},\n",
       "     {'row': 1, 'col': 2},\n",
       "     {'row': 2, 'col': 1},\n",
       "     {'row': 0, 'col': 2},\n",
       "     {'row': 2, 'col': 4}]]}},\n",
       " {'frame': {'level': 'medium',\n",
       "   'data': [[None,\n",
       "     {'row': 2, 'col': 2},\n",
       "     {'row': 1, 'col': 3},\n",
       "     {'row': 1, 'col': 1},\n",
       "     {'row': 0, 'col': 4}]]}},\n",
       " {'frame': {'level': 'easy', 'data': [2, 1]}},\n",
       " {'frame': {'level': 'medium', 'data': [1, 2, 1, 2, 2, 3]}},\n",
       " {'frame': {'level': 'easy',\n",
       "   'data': {'stamps': [2, 2, 1, 1, 0],\n",
       "    'start': 1,\n",
       "    'end': 16,\n",
       "    'selected': True}}},\n",
       " {'frame': {'level': 'medium',\n",
       "   'data': {'stamps': [2, 1, 1, 1, 0],\n",
       "    'start': 1,\n",
       "    'end': 5,\n",
       "    'selected': True}}},\n",
       " {'frame': {'level': 'hard',\n",
       "   'data': {'stamps': [0, 1, 0, 1], 'start': 1, 'end': 5, 'selected': True}}},\n",
       " {'frame': {'level': 'easy',\n",
       "   'data': {'rotation': [[0, 3, 2]], 'lowered': None}}},\n",
       " {'frame': {'level': 'medium',\n",
       "   'data': {'rotation': [[2, 2, 0, 0, 0, 0]], 'lowered': None}}},\n",
       " {'frame': {'level': 'hard',\n",
       "   'data': {'rotation': [[None, None, 1, 1, 1, 0],\n",
       "     [1, 1, 3, None, 1, None],\n",
       "     [None, 0, None, None, 3, None],\n",
       "     [0, 2, 0, 1, None, None]],\n",
       "    'lowered': [2, 1]}}},\n",
       " {'frame': {'level': 'easy',\n",
       "   'data': {'sequence': [1, 0, 1, 0, 0, 1, 1],\n",
       "    'transformation': [[0], [0, 1]]}}},\n",
       " {'frame': {'level': 'medium',\n",
       "   'data': {'sequence': [1, 1, 0, 1, 0, 0],\n",
       "    'transformation': [[0, 1], [1, 0]]}}}]"
      ]
     },
     "execution_count": 130,
     "metadata": {},
     "output_type": "execute_result"
    }
   ],
   "source": [
    "data_per_row = df.iloc[index,8]\n",
    "frame_list = ast.literal_eval(data_per_row)\n",
    "frame_dic_list = []\n",
    "for index in range(len(frame_list)):\n",
    "    frame_dic_list.append(json.loads(frame_list[index])) \n",
    "frame_dic_list"
   ]
  },
  {
   "cell_type": "code",
   "execution_count": 125,
   "id": "e5c756d1",
   "metadata": {},
   "outputs": [],
   "source": [
    "test_df = pd.DataFrame([[{1:'ds'},{2,'df'}], [{1:'ds'},{2,'df'}]])\n",
    "test_df.iloc[0,0][1]"
   ]
  },
  {
   "cell_type": "markdown",
   "id": "1c91c870",
   "metadata": {},
   "source": [
    "最后将经过处理的结构体的列表存储到新的列中，新属性的名称为‘ans’，注意这一步操作已经在初始化函数中完成"
   ]
  },
  {
   "cell_type": "code",
   "execution_count": 160,
   "id": "401c1aa8",
   "metadata": {},
   "outputs": [
    {
     "data": {
      "text/plain": [
       "{'level': 'hard',\n",
       " 'data': {'rotation': [[None, None, 1, 1, 1, 0],\n",
       "   [2, 2, 0, None, 0, None],\n",
       "   [None, 2, None, None, 0, None],\n",
       "   [2, 0, 2, 1, None, None]],\n",
       "  'lowered': [3, 3]}}"
      ]
     },
     "execution_count": 160,
     "metadata": {},
     "output_type": "execute_result"
    }
   ],
   "source": [
    "dic_temp = data_entity.df.loc[0,'ans'][20]['frame']\n",
    "dic_temp"
   ]
  },
  {
   "cell_type": "markdown",
   "id": "d2cc2d06",
   "metadata": {},
   "source": [
    "# 添加列（时长），单位s\n",
    "新增属性'interval'\n",
    "\n",
    "每一行的实例数据为："
   ]
  },
  {
   "cell_type": "code",
   "execution_count": 217,
   "id": "f88915b0",
   "metadata": {},
   "outputs": [
    {
     "data": {
      "text/plain": [
       "user                                          yibin/智能计算素养/310101\n",
       "type                                                  ticket-user\n",
       "contest_id                                           yibin/智能计算素养\n",
       "ticket_id                                                  310101\n",
       "start_time                              2021-06-24T09:44:29+08:00\n",
       "expire_time                             2021-06-24T11:44:29+08:00\n",
       "stop_time                               2021-06-24T10:33:05+08:00\n",
       "mobile_alert                                                  NaN\n",
       "task_answers    [\"{\\\"frame\\\":{\\\"level\\\":\\\"easy\\\",\\\"data\\\":{\\\"s...\n",
       "user_agent      Mozilla/5.0 (Windows NT 10.0; Win64; x64) Appl...\n",
       "client_ip                                          125.69.167.133\n",
       "school                                                    区二中实验初中\n",
       "tag                                            我是学生,智能计算素养,问题解决素养\n",
       "name                                                           杨凤\n",
       "owner                                                       yibin\n",
       "state                                                         NaN\n",
       "is_parent                                                       0\n",
       "ans             [{'level': 'easy', 'data': {'successRate': 1, ...\n",
       "interval                                                        0\n",
       "Name: 0, dtype: object"
      ]
     },
     "execution_count": 217,
     "metadata": {},
     "output_type": "execute_result"
    }
   ],
   "source": [
    "row_data = data_entity.df.loc[0,:]\n",
    "row_data"
   ]
  },
  {
   "cell_type": "code",
   "execution_count": 219,
   "id": "c95bb1c4",
   "metadata": {},
   "outputs": [],
   "source": [
    "\n",
    "start_time = row_data['start_time']\n",
    "start_time = datetime.strptime(start_time,\"%Y-%m-%dT%H:%M:%S+08:00\")\n",
    "\n",
    "expire_time = row_data['expire_time']\n",
    "expire_time = datetime.strptime(expire_time,\"%Y-%m-%dT%H:%M:%S+08:00\")\n",
    "\n",
    "stop_time = row_data['stop_time']\n",
    "stop_time = datetime.strptime(stop_time,\"%Y-%m-%dT%H:%M:%S+08:00\")\n",
    "\n",
    "total_sec = (stop_time - start_time).seconds"
   ]
  },
  {
   "cell_type": "code",
   "execution_count": 215,
   "id": "3717094e",
   "metadata": {},
   "outputs": [
    {
     "data": {
      "text/plain": [
       "2916"
      ]
     },
     "execution_count": 215,
     "metadata": {},
     "output_type": "execute_result"
    }
   ],
   "source": [
    "total_sec"
   ]
  },
  {
   "cell_type": "markdown",
   "id": "037fdfff",
   "metadata": {},
   "source": [
    "基于以上思路的代码实现在init函数中执行（self.get_interval）"
   ]
  },
  {
   "cell_type": "markdown",
   "id": "50977b2b",
   "metadata": {},
   "source": [
    "## 所有答卷的完成时间的分布图如下"
   ]
  },
  {
   "cell_type": "code",
   "execution_count": 270,
   "id": "897431f1",
   "metadata": {},
   "outputs": [
    {
     "data": {
      "application/vnd.plotly.v1+json": {
       "config": {
        "linkText": "Export to plot.ly",
        "plotlyServerURL": "https://plot.ly",
        "showLink": false
       },
       "data": [
        {
         "type": "histogram",
         "x": [
          2916,
          1265,
          2146,
          1651,
          2196,
          925,
          3233,
          686,
          1436,
          2100,
          1349,
          1161,
          1103,
          669,
          2532,
          1920,
          1733,
          3079,
          3356,
          1166,
          2378,
          1445,
          1386,
          1813,
          1525,
          2031,
          1575,
          2039,
          2468,
          1646,
          1292,
          1658,
          1621,
          2823,
          1799,
          2372,
          2804,
          1380,
          2203,
          1073,
          2281,
          1790,
          1789,
          1948,
          2697,
          2447,
          1682,
          1802,
          1335,
          2903,
          1746,
          1377,
          2559,
          1372,
          1919,
          3186,
          3929,
          2076,
          3544,
          3472,
          3734,
          3187,
          4376,
          2340,
          1530,
          2540,
          -1,
          3771,
          4024,
          4042,
          4147,
          2994,
          4440,
          4335,
          3721,
          1664,
          3681,
          3799,
          4610,
          3450,
          548,
          2964,
          4294,
          4035,
          3572,
          4645,
          4010,
          4674,
          3485,
          4126,
          4678,
          3333,
          2730,
          4285,
          3515,
          3063,
          4282,
          4635,
          4533,
          4762,
          4276,
          4203,
          5545,
          3986,
          4643,
          3863,
          4003,
          5254,
          4251,
          2775,
          2447,
          2144,
          1627,
          2357,
          2501,
          3313,
          1200,
          1758,
          1606,
          2732,
          972,
          3047,
          2325,
          2218,
          2251,
          3110,
          2404,
          2246,
          2162,
          2168,
          1916,
          1406,
          2717,
          2079,
          2446,
          1555,
          1770,
          2129,
          4057,
          2115,
          1461,
          2178,
          566,
          2330,
          1786,
          2294,
          2012,
          1605,
          2561,
          637,
          1866,
          3092,
          1868,
          2039,
          2436,
          519,
          1699,
          1682,
          2207,
          1621,
          2142,
          2330,
          2337,
          1820,
          4135,
          2120,
          2274,
          3130,
          2591,
          2429,
          1953,
          2208,
          2296,
          2374,
          2774,
          2502,
          1743,
          2641,
          2245,
          1968,
          2741,
          2486,
          2550,
          2500,
          2426,
          2200,
          2839,
          2760,
          2259,
          2309,
          2043,
          3488,
          2472,
          2249,
          1979,
          2410,
          2629,
          1867,
          2641,
          1483,
          2321,
          1551,
          1951,
          2246,
          2288,
          1878,
          2333,
          2155,
          1690,
          2681,
          1966,
          1987,
          2026,
          2880,
          2785,
          2367,
          4516,
          2879,
          2823,
          3351,
          3779,
          3939,
          2666,
          2674,
          2112,
          3318,
          3748,
          2726,
          2637,
          3028,
          2732,
          3074,
          3440,
          4327,
          2253,
          4232,
          3472,
          -1,
          4061,
          3643,
          3464,
          3372,
          3502,
          3246,
          3476,
          2756,
          3387,
          4443,
          4107,
          3267,
          1669,
          2711,
          2911,
          3025,
          2040,
          2740,
          3091,
          3031,
          2712,
          2521,
          2983,
          3204,
          3685,
          2704,
          3696,
          4295,
          3636,
          4287,
          3911,
          4146,
          5925,
          3470,
          3314,
          2891,
          3141,
          3874,
          2341,
          3417,
          4599,
          3534,
          4156,
          2814,
          5705,
          1678,
          3626,
          4441,
          -1,
          5673,
          5344,
          4030,
          4037,
          4519,
          4021,
          -1,
          2986,
          4583,
          4257,
          5000,
          3928,
          -1,
          4795,
          4795,
          5870,
          5685,
          3302,
          4081,
          3798,
          3362,
          2929,
          3450,
          5887,
          4424,
          3165,
          4833,
          4371,
          3893,
          4142,
          3575,
          3878,
          4401,
          3857,
          4260,
          3190,
          4638,
          4048,
          5611,
          5006,
          3352,
          3699,
          4161,
          4031,
          4060,
          5482,
          3312,
          4830,
          4083,
          3487,
          5919,
          5068,
          3285,
          4809,
          3693,
          4684,
          4088,
          3916,
          3185,
          5118,
          3476,
          4561,
          1497,
          3993,
          3729,
          4064,
          4120,
          5023,
          4438,
          4307,
          4253,
          4076,
          4631,
          3699,
          3139,
          6376,
          3782,
          4988,
          4567,
          3667,
          5964,
          4401,
          5557,
          5585,
          4805,
          5270,
          5302,
          5445,
          4358,
          4933,
          5372,
          4717,
          3299,
          4149,
          3727,
          5052,
          5710,
          5264,
          3902,
          5582,
          5393,
          5577,
          5265,
          6509,
          3603,
          4496,
          4968,
          3701,
          4453,
          3718,
          6494,
          3584,
          4950,
          4980,
          3951,
          3205,
          4561,
          5636,
          5008,
          3935,
          4663,
          4462,
          5167,
          3526,
          5819,
          3406,
          4469,
          4764,
          5741,
          6043,
          4560,
          3999,
          4571,
          5019,
          4847,
          5289,
          5465,
          3369,
          3957,
          2406,
          5770,
          4585,
          4542,
          4134,
          4391,
          4537,
          4574,
          3279,
          5263,
          3484,
          5733,
          6493,
          5239,
          4409,
          5445,
          4177,
          4198,
          3702,
          4871,
          4448,
          4973,
          2804,
          5233,
          5300,
          5543,
          4420,
          6120,
          4461,
          5117,
          5551,
          3161,
          3191,
          5091,
          3384,
          4055,
          4126,
          2931,
          3370,
          4310,
          2723,
          3469,
          3062,
          3883,
          3385,
          3314,
          2841,
          3144,
          3248,
          2949,
          3183,
          3024,
          3086,
          3621,
          3768,
          2730,
          4111,
          3128,
          4144,
          3831,
          3355,
          4404,
          4690,
          3800,
          4008,
          4263,
          3663,
          3325,
          3207,
          3871,
          3812,
          3407,
          4211,
          3181,
          3774,
          3081,
          4421,
          4842,
          -1,
          2811,
          2982,
          5107,
          4260,
          2076,
          3491,
          2735,
          2594,
          3076,
          3348,
          3351,
          3356,
          4335,
          4229,
          5420,
          2198,
          2150,
          4869,
          3144,
          4442,
          4634,
          4603,
          5641,
          3790,
          2799,
          3416,
          3800,
          5172,
          2697,
          3440,
          4308,
          4348,
          5022,
          4650,
          4349,
          3722,
          3589,
          5634,
          4316,
          5434,
          5286,
          4241,
          4447,
          5276,
          4308,
          3996,
          2919,
          5083,
          3433,
          4031,
          2979,
          4071,
          3230,
          4593,
          4817,
          3588,
          5434,
          3926,
          4167,
          5322,
          4388,
          5916,
          5001,
          4573,
          3923,
          4676,
          5118,
          4925,
          3087,
          3324,
          4991,
          4357,
          3896,
          4788,
          5559,
          3324,
          4871,
          4232,
          4253,
          3745,
          4876,
          4646,
          3576,
          5527,
          6069,
          3259,
          5089,
          2997,
          4381,
          5308,
          1716,
          3961,
          4916,
          4157,
          4600,
          4447,
          -1,
          3174,
          4778,
          4034,
          3137,
          6060,
          3719,
          6306,
          3556,
          4564,
          4489,
          5414,
          5131,
          4643,
          3422,
          3997,
          2658,
          5147,
          4077,
          4377,
          4489,
          4595,
          2272,
          3817,
          2849,
          4373,
          3841,
          4219,
          4622,
          3081,
          2954,
          4254,
          4012,
          4676,
          4359,
          6278,
          5104,
          4595,
          3994,
          3864,
          4416,
          4922,
          4246,
          4014,
          3945,
          3156,
          3656,
          5099,
          3118,
          5264,
          5041,
          4863,
          4319,
          4662,
          3781,
          5116,
          3707,
          6488,
          2827,
          2615,
          5061
         ]
        }
       ],
       "layout": {
        "template": {
         "data": {
          "bar": [
           {
            "error_x": {
             "color": "#2a3f5f"
            },
            "error_y": {
             "color": "#2a3f5f"
            },
            "marker": {
             "line": {
              "color": "#E5ECF6",
              "width": 0.5
             },
             "pattern": {
              "fillmode": "overlay",
              "size": 10,
              "solidity": 0.2
             }
            },
            "type": "bar"
           }
          ],
          "barpolar": [
           {
            "marker": {
             "line": {
              "color": "#E5ECF6",
              "width": 0.5
             },
             "pattern": {
              "fillmode": "overlay",
              "size": 10,
              "solidity": 0.2
             }
            },
            "type": "barpolar"
           }
          ],
          "carpet": [
           {
            "aaxis": {
             "endlinecolor": "#2a3f5f",
             "gridcolor": "white",
             "linecolor": "white",
             "minorgridcolor": "white",
             "startlinecolor": "#2a3f5f"
            },
            "baxis": {
             "endlinecolor": "#2a3f5f",
             "gridcolor": "white",
             "linecolor": "white",
             "minorgridcolor": "white",
             "startlinecolor": "#2a3f5f"
            },
            "type": "carpet"
           }
          ],
          "choropleth": [
           {
            "colorbar": {
             "outlinewidth": 0,
             "ticks": ""
            },
            "type": "choropleth"
           }
          ],
          "contour": [
           {
            "colorbar": {
             "outlinewidth": 0,
             "ticks": ""
            },
            "colorscale": [
             [
              0,
              "#0d0887"
             ],
             [
              0.1111111111111111,
              "#46039f"
             ],
             [
              0.2222222222222222,
              "#7201a8"
             ],
             [
              0.3333333333333333,
              "#9c179e"
             ],
             [
              0.4444444444444444,
              "#bd3786"
             ],
             [
              0.5555555555555556,
              "#d8576b"
             ],
             [
              0.6666666666666666,
              "#ed7953"
             ],
             [
              0.7777777777777778,
              "#fb9f3a"
             ],
             [
              0.8888888888888888,
              "#fdca26"
             ],
             [
              1,
              "#f0f921"
             ]
            ],
            "type": "contour"
           }
          ],
          "contourcarpet": [
           {
            "colorbar": {
             "outlinewidth": 0,
             "ticks": ""
            },
            "type": "contourcarpet"
           }
          ],
          "heatmap": [
           {
            "colorbar": {
             "outlinewidth": 0,
             "ticks": ""
            },
            "colorscale": [
             [
              0,
              "#0d0887"
             ],
             [
              0.1111111111111111,
              "#46039f"
             ],
             [
              0.2222222222222222,
              "#7201a8"
             ],
             [
              0.3333333333333333,
              "#9c179e"
             ],
             [
              0.4444444444444444,
              "#bd3786"
             ],
             [
              0.5555555555555556,
              "#d8576b"
             ],
             [
              0.6666666666666666,
              "#ed7953"
             ],
             [
              0.7777777777777778,
              "#fb9f3a"
             ],
             [
              0.8888888888888888,
              "#fdca26"
             ],
             [
              1,
              "#f0f921"
             ]
            ],
            "type": "heatmap"
           }
          ],
          "heatmapgl": [
           {
            "colorbar": {
             "outlinewidth": 0,
             "ticks": ""
            },
            "colorscale": [
             [
              0,
              "#0d0887"
             ],
             [
              0.1111111111111111,
              "#46039f"
             ],
             [
              0.2222222222222222,
              "#7201a8"
             ],
             [
              0.3333333333333333,
              "#9c179e"
             ],
             [
              0.4444444444444444,
              "#bd3786"
             ],
             [
              0.5555555555555556,
              "#d8576b"
             ],
             [
              0.6666666666666666,
              "#ed7953"
             ],
             [
              0.7777777777777778,
              "#fb9f3a"
             ],
             [
              0.8888888888888888,
              "#fdca26"
             ],
             [
              1,
              "#f0f921"
             ]
            ],
            "type": "heatmapgl"
           }
          ],
          "histogram": [
           {
            "marker": {
             "pattern": {
              "fillmode": "overlay",
              "size": 10,
              "solidity": 0.2
             }
            },
            "type": "histogram"
           }
          ],
          "histogram2d": [
           {
            "colorbar": {
             "outlinewidth": 0,
             "ticks": ""
            },
            "colorscale": [
             [
              0,
              "#0d0887"
             ],
             [
              0.1111111111111111,
              "#46039f"
             ],
             [
              0.2222222222222222,
              "#7201a8"
             ],
             [
              0.3333333333333333,
              "#9c179e"
             ],
             [
              0.4444444444444444,
              "#bd3786"
             ],
             [
              0.5555555555555556,
              "#d8576b"
             ],
             [
              0.6666666666666666,
              "#ed7953"
             ],
             [
              0.7777777777777778,
              "#fb9f3a"
             ],
             [
              0.8888888888888888,
              "#fdca26"
             ],
             [
              1,
              "#f0f921"
             ]
            ],
            "type": "histogram2d"
           }
          ],
          "histogram2dcontour": [
           {
            "colorbar": {
             "outlinewidth": 0,
             "ticks": ""
            },
            "colorscale": [
             [
              0,
              "#0d0887"
             ],
             [
              0.1111111111111111,
              "#46039f"
             ],
             [
              0.2222222222222222,
              "#7201a8"
             ],
             [
              0.3333333333333333,
              "#9c179e"
             ],
             [
              0.4444444444444444,
              "#bd3786"
             ],
             [
              0.5555555555555556,
              "#d8576b"
             ],
             [
              0.6666666666666666,
              "#ed7953"
             ],
             [
              0.7777777777777778,
              "#fb9f3a"
             ],
             [
              0.8888888888888888,
              "#fdca26"
             ],
             [
              1,
              "#f0f921"
             ]
            ],
            "type": "histogram2dcontour"
           }
          ],
          "mesh3d": [
           {
            "colorbar": {
             "outlinewidth": 0,
             "ticks": ""
            },
            "type": "mesh3d"
           }
          ],
          "parcoords": [
           {
            "line": {
             "colorbar": {
              "outlinewidth": 0,
              "ticks": ""
             }
            },
            "type": "parcoords"
           }
          ],
          "pie": [
           {
            "automargin": true,
            "type": "pie"
           }
          ],
          "scatter": [
           {
            "marker": {
             "colorbar": {
              "outlinewidth": 0,
              "ticks": ""
             }
            },
            "type": "scatter"
           }
          ],
          "scatter3d": [
           {
            "line": {
             "colorbar": {
              "outlinewidth": 0,
              "ticks": ""
             }
            },
            "marker": {
             "colorbar": {
              "outlinewidth": 0,
              "ticks": ""
             }
            },
            "type": "scatter3d"
           }
          ],
          "scattercarpet": [
           {
            "marker": {
             "colorbar": {
              "outlinewidth": 0,
              "ticks": ""
             }
            },
            "type": "scattercarpet"
           }
          ],
          "scattergeo": [
           {
            "marker": {
             "colorbar": {
              "outlinewidth": 0,
              "ticks": ""
             }
            },
            "type": "scattergeo"
           }
          ],
          "scattergl": [
           {
            "marker": {
             "colorbar": {
              "outlinewidth": 0,
              "ticks": ""
             }
            },
            "type": "scattergl"
           }
          ],
          "scattermapbox": [
           {
            "marker": {
             "colorbar": {
              "outlinewidth": 0,
              "ticks": ""
             }
            },
            "type": "scattermapbox"
           }
          ],
          "scatterpolar": [
           {
            "marker": {
             "colorbar": {
              "outlinewidth": 0,
              "ticks": ""
             }
            },
            "type": "scatterpolar"
           }
          ],
          "scatterpolargl": [
           {
            "marker": {
             "colorbar": {
              "outlinewidth": 0,
              "ticks": ""
             }
            },
            "type": "scatterpolargl"
           }
          ],
          "scatterternary": [
           {
            "marker": {
             "colorbar": {
              "outlinewidth": 0,
              "ticks": ""
             }
            },
            "type": "scatterternary"
           }
          ],
          "surface": [
           {
            "colorbar": {
             "outlinewidth": 0,
             "ticks": ""
            },
            "colorscale": [
             [
              0,
              "#0d0887"
             ],
             [
              0.1111111111111111,
              "#46039f"
             ],
             [
              0.2222222222222222,
              "#7201a8"
             ],
             [
              0.3333333333333333,
              "#9c179e"
             ],
             [
              0.4444444444444444,
              "#bd3786"
             ],
             [
              0.5555555555555556,
              "#d8576b"
             ],
             [
              0.6666666666666666,
              "#ed7953"
             ],
             [
              0.7777777777777778,
              "#fb9f3a"
             ],
             [
              0.8888888888888888,
              "#fdca26"
             ],
             [
              1,
              "#f0f921"
             ]
            ],
            "type": "surface"
           }
          ],
          "table": [
           {
            "cells": {
             "fill": {
              "color": "#EBF0F8"
             },
             "line": {
              "color": "white"
             }
            },
            "header": {
             "fill": {
              "color": "#C8D4E3"
             },
             "line": {
              "color": "white"
             }
            },
            "type": "table"
           }
          ]
         },
         "layout": {
          "annotationdefaults": {
           "arrowcolor": "#2a3f5f",
           "arrowhead": 0,
           "arrowwidth": 1
          },
          "autotypenumbers": "strict",
          "coloraxis": {
           "colorbar": {
            "outlinewidth": 0,
            "ticks": ""
           }
          },
          "colorscale": {
           "diverging": [
            [
             0,
             "#8e0152"
            ],
            [
             0.1,
             "#c51b7d"
            ],
            [
             0.2,
             "#de77ae"
            ],
            [
             0.3,
             "#f1b6da"
            ],
            [
             0.4,
             "#fde0ef"
            ],
            [
             0.5,
             "#f7f7f7"
            ],
            [
             0.6,
             "#e6f5d0"
            ],
            [
             0.7,
             "#b8e186"
            ],
            [
             0.8,
             "#7fbc41"
            ],
            [
             0.9,
             "#4d9221"
            ],
            [
             1,
             "#276419"
            ]
           ],
           "sequential": [
            [
             0,
             "#0d0887"
            ],
            [
             0.1111111111111111,
             "#46039f"
            ],
            [
             0.2222222222222222,
             "#7201a8"
            ],
            [
             0.3333333333333333,
             "#9c179e"
            ],
            [
             0.4444444444444444,
             "#bd3786"
            ],
            [
             0.5555555555555556,
             "#d8576b"
            ],
            [
             0.6666666666666666,
             "#ed7953"
            ],
            [
             0.7777777777777778,
             "#fb9f3a"
            ],
            [
             0.8888888888888888,
             "#fdca26"
            ],
            [
             1,
             "#f0f921"
            ]
           ],
           "sequentialminus": [
            [
             0,
             "#0d0887"
            ],
            [
             0.1111111111111111,
             "#46039f"
            ],
            [
             0.2222222222222222,
             "#7201a8"
            ],
            [
             0.3333333333333333,
             "#9c179e"
            ],
            [
             0.4444444444444444,
             "#bd3786"
            ],
            [
             0.5555555555555556,
             "#d8576b"
            ],
            [
             0.6666666666666666,
             "#ed7953"
            ],
            [
             0.7777777777777778,
             "#fb9f3a"
            ],
            [
             0.8888888888888888,
             "#fdca26"
            ],
            [
             1,
             "#f0f921"
            ]
           ]
          },
          "colorway": [
           "#636efa",
           "#EF553B",
           "#00cc96",
           "#ab63fa",
           "#FFA15A",
           "#19d3f3",
           "#FF6692",
           "#B6E880",
           "#FF97FF",
           "#FECB52"
          ],
          "font": {
           "color": "#2a3f5f"
          },
          "geo": {
           "bgcolor": "white",
           "lakecolor": "white",
           "landcolor": "#E5ECF6",
           "showlakes": true,
           "showland": true,
           "subunitcolor": "white"
          },
          "hoverlabel": {
           "align": "left"
          },
          "hovermode": "closest",
          "mapbox": {
           "style": "light"
          },
          "paper_bgcolor": "white",
          "plot_bgcolor": "#E5ECF6",
          "polar": {
           "angularaxis": {
            "gridcolor": "white",
            "linecolor": "white",
            "ticks": ""
           },
           "bgcolor": "#E5ECF6",
           "radialaxis": {
            "gridcolor": "white",
            "linecolor": "white",
            "ticks": ""
           }
          },
          "scene": {
           "xaxis": {
            "backgroundcolor": "#E5ECF6",
            "gridcolor": "white",
            "gridwidth": 2,
            "linecolor": "white",
            "showbackground": true,
            "ticks": "",
            "zerolinecolor": "white"
           },
           "yaxis": {
            "backgroundcolor": "#E5ECF6",
            "gridcolor": "white",
            "gridwidth": 2,
            "linecolor": "white",
            "showbackground": true,
            "ticks": "",
            "zerolinecolor": "white"
           },
           "zaxis": {
            "backgroundcolor": "#E5ECF6",
            "gridcolor": "white",
            "gridwidth": 2,
            "linecolor": "white",
            "showbackground": true,
            "ticks": "",
            "zerolinecolor": "white"
           }
          },
          "shapedefaults": {
           "line": {
            "color": "#2a3f5f"
           }
          },
          "ternary": {
           "aaxis": {
            "gridcolor": "white",
            "linecolor": "white",
            "ticks": ""
           },
           "baxis": {
            "gridcolor": "white",
            "linecolor": "white",
            "ticks": ""
           },
           "bgcolor": "#E5ECF6",
           "caxis": {
            "gridcolor": "white",
            "linecolor": "white",
            "ticks": ""
           }
          },
          "title": {
           "x": 0.05
          },
          "xaxis": {
           "automargin": true,
           "gridcolor": "white",
           "linecolor": "white",
           "ticks": "",
           "title": {
            "standoff": 15
           },
           "zerolinecolor": "white",
           "zerolinewidth": 2
          },
          "yaxis": {
           "automargin": true,
           "gridcolor": "white",
           "linecolor": "white",
           "ticks": "",
           "title": {
            "standoff": 15
           },
           "zerolinecolor": "white",
           "zerolinewidth": 2
          }
         }
        },
        "title": {
         "text": "学生用时分布"
        },
        "xaxis": {
         "tickangle": 60,
         "title": {
          "text": "学生用时，单位秒"
         }
        },
        "yaxis": {
         "title": {
          "text": "学生个数"
         }
        }
       }
      },
      "text/html": [
       "<div>                            <div id=\"a56bc84a-ddcf-4f98-ac46-75a155e7af7f\" class=\"plotly-graph-div\" style=\"height:525px; width:100%;\"></div>            <script type=\"text/javascript\">                require([\"plotly\"], function(Plotly) {                    window.PLOTLYENV=window.PLOTLYENV || {};                                    if (document.getElementById(\"a56bc84a-ddcf-4f98-ac46-75a155e7af7f\")) {                    Plotly.newPlot(                        \"a56bc84a-ddcf-4f98-ac46-75a155e7af7f\",                        [{\"type\":\"histogram\",\"x\":[2916,1265,2146,1651,2196,925,3233,686,1436,2100,1349,1161,1103,669,2532,1920,1733,3079,3356,1166,2378,1445,1386,1813,1525,2031,1575,2039,2468,1646,1292,1658,1621,2823,1799,2372,2804,1380,2203,1073,2281,1790,1789,1948,2697,2447,1682,1802,1335,2903,1746,1377,2559,1372,1919,3186,3929,2076,3544,3472,3734,3187,4376,2340,1530,2540,-1,3771,4024,4042,4147,2994,4440,4335,3721,1664,3681,3799,4610,3450,548,2964,4294,4035,3572,4645,4010,4674,3485,4126,4678,3333,2730,4285,3515,3063,4282,4635,4533,4762,4276,4203,5545,3986,4643,3863,4003,5254,4251,2775,2447,2144,1627,2357,2501,3313,1200,1758,1606,2732,972,3047,2325,2218,2251,3110,2404,2246,2162,2168,1916,1406,2717,2079,2446,1555,1770,2129,4057,2115,1461,2178,566,2330,1786,2294,2012,1605,2561,637,1866,3092,1868,2039,2436,519,1699,1682,2207,1621,2142,2330,2337,1820,4135,2120,2274,3130,2591,2429,1953,2208,2296,2374,2774,2502,1743,2641,2245,1968,2741,2486,2550,2500,2426,2200,2839,2760,2259,2309,2043,3488,2472,2249,1979,2410,2629,1867,2641,1483,2321,1551,1951,2246,2288,1878,2333,2155,1690,2681,1966,1987,2026,2880,2785,2367,4516,2879,2823,3351,3779,3939,2666,2674,2112,3318,3748,2726,2637,3028,2732,3074,3440,4327,2253,4232,3472,-1,4061,3643,3464,3372,3502,3246,3476,2756,3387,4443,4107,3267,1669,2711,2911,3025,2040,2740,3091,3031,2712,2521,2983,3204,3685,2704,3696,4295,3636,4287,3911,4146,5925,3470,3314,2891,3141,3874,2341,3417,4599,3534,4156,2814,5705,1678,3626,4441,-1,5673,5344,4030,4037,4519,4021,-1,2986,4583,4257,5000,3928,-1,4795,4795,5870,5685,3302,4081,3798,3362,2929,3450,5887,4424,3165,4833,4371,3893,4142,3575,3878,4401,3857,4260,3190,4638,4048,5611,5006,3352,3699,4161,4031,4060,5482,3312,4830,4083,3487,5919,5068,3285,4809,3693,4684,4088,3916,3185,5118,3476,4561,1497,3993,3729,4064,4120,5023,4438,4307,4253,4076,4631,3699,3139,6376,3782,4988,4567,3667,5964,4401,5557,5585,4805,5270,5302,5445,4358,4933,5372,4717,3299,4149,3727,5052,5710,5264,3902,5582,5393,5577,5265,6509,3603,4496,4968,3701,4453,3718,6494,3584,4950,4980,3951,3205,4561,5636,5008,3935,4663,4462,5167,3526,5819,3406,4469,4764,5741,6043,4560,3999,4571,5019,4847,5289,5465,3369,3957,2406,5770,4585,4542,4134,4391,4537,4574,3279,5263,3484,5733,6493,5239,4409,5445,4177,4198,3702,4871,4448,4973,2804,5233,5300,5543,4420,6120,4461,5117,5551,3161,3191,5091,3384,4055,4126,2931,3370,4310,2723,3469,3062,3883,3385,3314,2841,3144,3248,2949,3183,3024,3086,3621,3768,2730,4111,3128,4144,3831,3355,4404,4690,3800,4008,4263,3663,3325,3207,3871,3812,3407,4211,3181,3774,3081,4421,4842,-1,2811,2982,5107,4260,2076,3491,2735,2594,3076,3348,3351,3356,4335,4229,5420,2198,2150,4869,3144,4442,4634,4603,5641,3790,2799,3416,3800,5172,2697,3440,4308,4348,5022,4650,4349,3722,3589,5634,4316,5434,5286,4241,4447,5276,4308,3996,2919,5083,3433,4031,2979,4071,3230,4593,4817,3588,5434,3926,4167,5322,4388,5916,5001,4573,3923,4676,5118,4925,3087,3324,4991,4357,3896,4788,5559,3324,4871,4232,4253,3745,4876,4646,3576,5527,6069,3259,5089,2997,4381,5308,1716,3961,4916,4157,4600,4447,-1,3174,4778,4034,3137,6060,3719,6306,3556,4564,4489,5414,5131,4643,3422,3997,2658,5147,4077,4377,4489,4595,2272,3817,2849,4373,3841,4219,4622,3081,2954,4254,4012,4676,4359,6278,5104,4595,3994,3864,4416,4922,4246,4014,3945,3156,3656,5099,3118,5264,5041,4863,4319,4662,3781,5116,3707,6488,2827,2615,5061]}],                        {\"template\":{\"data\":{\"bar\":[{\"error_x\":{\"color\":\"#2a3f5f\"},\"error_y\":{\"color\":\"#2a3f5f\"},\"marker\":{\"line\":{\"color\":\"#E5ECF6\",\"width\":0.5},\"pattern\":{\"fillmode\":\"overlay\",\"size\":10,\"solidity\":0.2}},\"type\":\"bar\"}],\"barpolar\":[{\"marker\":{\"line\":{\"color\":\"#E5ECF6\",\"width\":0.5},\"pattern\":{\"fillmode\":\"overlay\",\"size\":10,\"solidity\":0.2}},\"type\":\"barpolar\"}],\"carpet\":[{\"aaxis\":{\"endlinecolor\":\"#2a3f5f\",\"gridcolor\":\"white\",\"linecolor\":\"white\",\"minorgridcolor\":\"white\",\"startlinecolor\":\"#2a3f5f\"},\"baxis\":{\"endlinecolor\":\"#2a3f5f\",\"gridcolor\":\"white\",\"linecolor\":\"white\",\"minorgridcolor\":\"white\",\"startlinecolor\":\"#2a3f5f\"},\"type\":\"carpet\"}],\"choropleth\":[{\"colorbar\":{\"outlinewidth\":0,\"ticks\":\"\"},\"type\":\"choropleth\"}],\"contour\":[{\"colorbar\":{\"outlinewidth\":0,\"ticks\":\"\"},\"colorscale\":[[0.0,\"#0d0887\"],[0.1111111111111111,\"#46039f\"],[0.2222222222222222,\"#7201a8\"],[0.3333333333333333,\"#9c179e\"],[0.4444444444444444,\"#bd3786\"],[0.5555555555555556,\"#d8576b\"],[0.6666666666666666,\"#ed7953\"],[0.7777777777777778,\"#fb9f3a\"],[0.8888888888888888,\"#fdca26\"],[1.0,\"#f0f921\"]],\"type\":\"contour\"}],\"contourcarpet\":[{\"colorbar\":{\"outlinewidth\":0,\"ticks\":\"\"},\"type\":\"contourcarpet\"}],\"heatmap\":[{\"colorbar\":{\"outlinewidth\":0,\"ticks\":\"\"},\"colorscale\":[[0.0,\"#0d0887\"],[0.1111111111111111,\"#46039f\"],[0.2222222222222222,\"#7201a8\"],[0.3333333333333333,\"#9c179e\"],[0.4444444444444444,\"#bd3786\"],[0.5555555555555556,\"#d8576b\"],[0.6666666666666666,\"#ed7953\"],[0.7777777777777778,\"#fb9f3a\"],[0.8888888888888888,\"#fdca26\"],[1.0,\"#f0f921\"]],\"type\":\"heatmap\"}],\"heatmapgl\":[{\"colorbar\":{\"outlinewidth\":0,\"ticks\":\"\"},\"colorscale\":[[0.0,\"#0d0887\"],[0.1111111111111111,\"#46039f\"],[0.2222222222222222,\"#7201a8\"],[0.3333333333333333,\"#9c179e\"],[0.4444444444444444,\"#bd3786\"],[0.5555555555555556,\"#d8576b\"],[0.6666666666666666,\"#ed7953\"],[0.7777777777777778,\"#fb9f3a\"],[0.8888888888888888,\"#fdca26\"],[1.0,\"#f0f921\"]],\"type\":\"heatmapgl\"}],\"histogram\":[{\"marker\":{\"pattern\":{\"fillmode\":\"overlay\",\"size\":10,\"solidity\":0.2}},\"type\":\"histogram\"}],\"histogram2d\":[{\"colorbar\":{\"outlinewidth\":0,\"ticks\":\"\"},\"colorscale\":[[0.0,\"#0d0887\"],[0.1111111111111111,\"#46039f\"],[0.2222222222222222,\"#7201a8\"],[0.3333333333333333,\"#9c179e\"],[0.4444444444444444,\"#bd3786\"],[0.5555555555555556,\"#d8576b\"],[0.6666666666666666,\"#ed7953\"],[0.7777777777777778,\"#fb9f3a\"],[0.8888888888888888,\"#fdca26\"],[1.0,\"#f0f921\"]],\"type\":\"histogram2d\"}],\"histogram2dcontour\":[{\"colorbar\":{\"outlinewidth\":0,\"ticks\":\"\"},\"colorscale\":[[0.0,\"#0d0887\"],[0.1111111111111111,\"#46039f\"],[0.2222222222222222,\"#7201a8\"],[0.3333333333333333,\"#9c179e\"],[0.4444444444444444,\"#bd3786\"],[0.5555555555555556,\"#d8576b\"],[0.6666666666666666,\"#ed7953\"],[0.7777777777777778,\"#fb9f3a\"],[0.8888888888888888,\"#fdca26\"],[1.0,\"#f0f921\"]],\"type\":\"histogram2dcontour\"}],\"mesh3d\":[{\"colorbar\":{\"outlinewidth\":0,\"ticks\":\"\"},\"type\":\"mesh3d\"}],\"parcoords\":[{\"line\":{\"colorbar\":{\"outlinewidth\":0,\"ticks\":\"\"}},\"type\":\"parcoords\"}],\"pie\":[{\"automargin\":true,\"type\":\"pie\"}],\"scatter\":[{\"marker\":{\"colorbar\":{\"outlinewidth\":0,\"ticks\":\"\"}},\"type\":\"scatter\"}],\"scatter3d\":[{\"line\":{\"colorbar\":{\"outlinewidth\":0,\"ticks\":\"\"}},\"marker\":{\"colorbar\":{\"outlinewidth\":0,\"ticks\":\"\"}},\"type\":\"scatter3d\"}],\"scattercarpet\":[{\"marker\":{\"colorbar\":{\"outlinewidth\":0,\"ticks\":\"\"}},\"type\":\"scattercarpet\"}],\"scattergeo\":[{\"marker\":{\"colorbar\":{\"outlinewidth\":0,\"ticks\":\"\"}},\"type\":\"scattergeo\"}],\"scattergl\":[{\"marker\":{\"colorbar\":{\"outlinewidth\":0,\"ticks\":\"\"}},\"type\":\"scattergl\"}],\"scattermapbox\":[{\"marker\":{\"colorbar\":{\"outlinewidth\":0,\"ticks\":\"\"}},\"type\":\"scattermapbox\"}],\"scatterpolar\":[{\"marker\":{\"colorbar\":{\"outlinewidth\":0,\"ticks\":\"\"}},\"type\":\"scatterpolar\"}],\"scatterpolargl\":[{\"marker\":{\"colorbar\":{\"outlinewidth\":0,\"ticks\":\"\"}},\"type\":\"scatterpolargl\"}],\"scatterternary\":[{\"marker\":{\"colorbar\":{\"outlinewidth\":0,\"ticks\":\"\"}},\"type\":\"scatterternary\"}],\"surface\":[{\"colorbar\":{\"outlinewidth\":0,\"ticks\":\"\"},\"colorscale\":[[0.0,\"#0d0887\"],[0.1111111111111111,\"#46039f\"],[0.2222222222222222,\"#7201a8\"],[0.3333333333333333,\"#9c179e\"],[0.4444444444444444,\"#bd3786\"],[0.5555555555555556,\"#d8576b\"],[0.6666666666666666,\"#ed7953\"],[0.7777777777777778,\"#fb9f3a\"],[0.8888888888888888,\"#fdca26\"],[1.0,\"#f0f921\"]],\"type\":\"surface\"}],\"table\":[{\"cells\":{\"fill\":{\"color\":\"#EBF0F8\"},\"line\":{\"color\":\"white\"}},\"header\":{\"fill\":{\"color\":\"#C8D4E3\"},\"line\":{\"color\":\"white\"}},\"type\":\"table\"}]},\"layout\":{\"annotationdefaults\":{\"arrowcolor\":\"#2a3f5f\",\"arrowhead\":0,\"arrowwidth\":1},\"autotypenumbers\":\"strict\",\"coloraxis\":{\"colorbar\":{\"outlinewidth\":0,\"ticks\":\"\"}},\"colorscale\":{\"diverging\":[[0,\"#8e0152\"],[0.1,\"#c51b7d\"],[0.2,\"#de77ae\"],[0.3,\"#f1b6da\"],[0.4,\"#fde0ef\"],[0.5,\"#f7f7f7\"],[0.6,\"#e6f5d0\"],[0.7,\"#b8e186\"],[0.8,\"#7fbc41\"],[0.9,\"#4d9221\"],[1,\"#276419\"]],\"sequential\":[[0.0,\"#0d0887\"],[0.1111111111111111,\"#46039f\"],[0.2222222222222222,\"#7201a8\"],[0.3333333333333333,\"#9c179e\"],[0.4444444444444444,\"#bd3786\"],[0.5555555555555556,\"#d8576b\"],[0.6666666666666666,\"#ed7953\"],[0.7777777777777778,\"#fb9f3a\"],[0.8888888888888888,\"#fdca26\"],[1.0,\"#f0f921\"]],\"sequentialminus\":[[0.0,\"#0d0887\"],[0.1111111111111111,\"#46039f\"],[0.2222222222222222,\"#7201a8\"],[0.3333333333333333,\"#9c179e\"],[0.4444444444444444,\"#bd3786\"],[0.5555555555555556,\"#d8576b\"],[0.6666666666666666,\"#ed7953\"],[0.7777777777777778,\"#fb9f3a\"],[0.8888888888888888,\"#fdca26\"],[1.0,\"#f0f921\"]]},\"colorway\":[\"#636efa\",\"#EF553B\",\"#00cc96\",\"#ab63fa\",\"#FFA15A\",\"#19d3f3\",\"#FF6692\",\"#B6E880\",\"#FF97FF\",\"#FECB52\"],\"font\":{\"color\":\"#2a3f5f\"},\"geo\":{\"bgcolor\":\"white\",\"lakecolor\":\"white\",\"landcolor\":\"#E5ECF6\",\"showlakes\":true,\"showland\":true,\"subunitcolor\":\"white\"},\"hoverlabel\":{\"align\":\"left\"},\"hovermode\":\"closest\",\"mapbox\":{\"style\":\"light\"},\"paper_bgcolor\":\"white\",\"plot_bgcolor\":\"#E5ECF6\",\"polar\":{\"angularaxis\":{\"gridcolor\":\"white\",\"linecolor\":\"white\",\"ticks\":\"\"},\"bgcolor\":\"#E5ECF6\",\"radialaxis\":{\"gridcolor\":\"white\",\"linecolor\":\"white\",\"ticks\":\"\"}},\"scene\":{\"xaxis\":{\"backgroundcolor\":\"#E5ECF6\",\"gridcolor\":\"white\",\"gridwidth\":2,\"linecolor\":\"white\",\"showbackground\":true,\"ticks\":\"\",\"zerolinecolor\":\"white\"},\"yaxis\":{\"backgroundcolor\":\"#E5ECF6\",\"gridcolor\":\"white\",\"gridwidth\":2,\"linecolor\":\"white\",\"showbackground\":true,\"ticks\":\"\",\"zerolinecolor\":\"white\"},\"zaxis\":{\"backgroundcolor\":\"#E5ECF6\",\"gridcolor\":\"white\",\"gridwidth\":2,\"linecolor\":\"white\",\"showbackground\":true,\"ticks\":\"\",\"zerolinecolor\":\"white\"}},\"shapedefaults\":{\"line\":{\"color\":\"#2a3f5f\"}},\"ternary\":{\"aaxis\":{\"gridcolor\":\"white\",\"linecolor\":\"white\",\"ticks\":\"\"},\"baxis\":{\"gridcolor\":\"white\",\"linecolor\":\"white\",\"ticks\":\"\"},\"bgcolor\":\"#E5ECF6\",\"caxis\":{\"gridcolor\":\"white\",\"linecolor\":\"white\",\"ticks\":\"\"}},\"title\":{\"x\":0.05},\"xaxis\":{\"automargin\":true,\"gridcolor\":\"white\",\"linecolor\":\"white\",\"ticks\":\"\",\"title\":{\"standoff\":15},\"zerolinecolor\":\"white\",\"zerolinewidth\":2},\"yaxis\":{\"automargin\":true,\"gridcolor\":\"white\",\"linecolor\":\"white\",\"ticks\":\"\",\"title\":{\"standoff\":15},\"zerolinecolor\":\"white\",\"zerolinewidth\":2}}},\"title\":{\"text\":\"\\u5b66\\u751f\\u7528\\u65f6\\u5206\\u5e03\"},\"xaxis\":{\"tickangle\":60,\"title\":{\"text\":\"\\u5b66\\u751f\\u7528\\u65f6\\uff0c\\u5355\\u4f4d\\u79d2\"}},\"yaxis\":{\"title\":{\"text\":\"\\u5b66\\u751f\\u4e2a\\u6570\"}}},                        {\"responsive\": true}                    ).then(function(){\n",
       "                            \n",
       "var gd = document.getElementById('a56bc84a-ddcf-4f98-ac46-75a155e7af7f');\n",
       "var x = new MutationObserver(function (mutations, observer) {{\n",
       "        var display = window.getComputedStyle(gd).display;\n",
       "        if (!display || display === 'none') {{\n",
       "            console.log([gd, 'removed!']);\n",
       "            Plotly.purge(gd);\n",
       "            observer.disconnect();\n",
       "        }}\n",
       "}});\n",
       "\n",
       "// Listen for the removal of the full notebook cells\n",
       "var notebookContainer = gd.closest('#notebook-container');\n",
       "if (notebookContainer) {{\n",
       "    x.observe(notebookContainer, {childList: true});\n",
       "}}\n",
       "\n",
       "// Listen for the clearing of the current output cell\n",
       "var outputEl = gd.closest('.output');\n",
       "if (outputEl) {{\n",
       "    x.observe(outputEl, {childList: true});\n",
       "}}\n",
       "\n",
       "                        })                };                });            </script>        </div>"
      ]
     },
     "metadata": {},
     "output_type": "display_data"
    },
    {
     "data": {
      "text/plain": [
       "0"
      ]
     },
     "execution_count": 270,
     "metadata": {},
     "output_type": "execute_result"
    }
   ],
   "source": [
    "data_entity.plot()"
   ]
  },
  {
   "cell_type": "markdown",
   "id": "dbf98c6d",
   "metadata": {},
   "source": [
    "# 新建关键字是题目的表\n",
    "（总共23个题目）"
   ]
  },
  {
   "cell_type": "markdown",
   "id": "b189e621",
   "metadata": {},
   "source": [
    "每一行中的‘ans’属性为一个固定长度（23）的列表，该列表中的元素格式为词典，现在建立一个新的dataframe，共662行，23列，每列对应同一个题目。"
   ]
  },
  {
   "cell_type": "code",
   "execution_count": null,
   "id": "2d899862",
   "metadata": {},
   "outputs": [],
   "source": [
    "a = data_entity.create_new_df()\n",
    "a"
   ]
  },
  {
   "cell_type": "markdown",
   "id": "487bdd9c",
   "metadata": {},
   "source": [
    "## 每道题编码种类"
   ]
  },
  {
   "cell_type": "markdown",
   "id": "7ba1a20b",
   "metadata": {},
   "source": [
    "## 每道题正确率"
   ]
  },
  {
   "cell_type": "code",
   "execution_count": null,
   "id": "b9fd1d2b",
   "metadata": {},
   "outputs": [],
   "source": []
  }
 ],
 "metadata": {
  "kernelspec": {
   "display_name": "Python 3",
   "language": "python",
   "name": "python3"
  },
  "language_info": {
   "codemirror_mode": {
    "name": "ipython",
    "version": 3
   },
   "file_extension": ".py",
   "mimetype": "text/x-python",
   "name": "python",
   "nbconvert_exporter": "python",
   "pygments_lexer": "ipython3",
   "version": "3.8.8"
  }
 },
 "nbformat": 4,
 "nbformat_minor": 5
}
